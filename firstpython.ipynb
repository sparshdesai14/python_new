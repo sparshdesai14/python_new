{
  "nbformat": 4,
  "nbformat_minor": 0,
  "metadata": {
    "colab": {
      "name": "firstpython.ipynb",
      "provenance": [],
      "collapsed_sections": [],
      "authorship_tag": "ABX9TyMxrkKy8eaV+4DldzBewYHD",
      "include_colab_link": true
    },
    "kernelspec": {
      "name": "python3",
      "display_name": "Python 3"
    },
    "language_info": {
      "name": "python"
    }
  },
  "cells": [
    {
      "cell_type": "markdown",
      "metadata": {
        "id": "view-in-github",
        "colab_type": "text"
      },
      "source": [
        "<a href=\"https://colab.research.google.com/github/sparshdesai14/python_new/blob/main/firstpython.ipynb\" target=\"_parent\"><img src=\"https://colab.research.google.com/assets/colab-badge.svg\" alt=\"Open In Colab\"/></a>"
      ]
    },
    {
      "cell_type": "code",
      "execution_count": null,
      "metadata": {
        "colab": {
          "base_uri": "https://localhost:8080/"
        },
        "id": "3R3RL6MwS0ut",
        "outputId": "8f555b51-05fc-417c-c8d5-b6fc2504e50a"
      },
      "outputs": [
        {
          "output_type": "stream",
          "name": "stdout",
          "text": [
            "\n",
            "      hello\n",
            "      kemcho\n",
            "      \n",
            "hello world\n",
            "\n",
            "                PYTHON\n",
            "\n",
            "                EASY\n",
            "                MULTIPURPOSE LANGUAGE\n",
            "                COMPUTER INTERACTIVE LANGUAGE\n",
            "                HIGH LEVEL LANGUAGE\n",
            "\n",
            "                USES\n",
            "                WEB DEVELOPMENT\n",
            "                MACHINE LEARNING\n",
            "                DATA SCIENCE\n",
            "                SOFTWARE DEVELOPMENNT\n",
            "                MATHEMATICS\n",
            "                SYSTEM SCRIPTING\n",
            "                AI\n",
            "                ROBOTICS\n",
            "\n",
            "\n",
            "                some imp instructions for visual code \n",
            "                to open prompt windows use cntrl swift `\n",
            "                to debug use F5\n",
            "\n",
            "            \n"
          ]
        }
      ],
      "source": [
        "\n",
        "#python   comment for individual line\n",
        "\n",
        "\"\"\"\n",
        "hello\n",
        "kem cho\n",
        "\"\"\"\n",
        "# comment for multiple lines\n",
        "#above wriiten is not called as multiple lines its basically unused string which\n",
        "# can aslo be assign to variable and can be print out in the output\n",
        "# suppose\n",
        "\n",
        "var = \"\"\"\n",
        "      hello\n",
        "      kemcho\n",
        "      \"\"\"\n",
        "\n",
        "print(var)      \n",
        "print(\"hello world\")\n",
        "\n",
        "#some important info\n",
        "#python can be done anaconda jjupiter notebook,google colab,visual studo code\n",
        "\n",
        "var1 =       \"\"\"\n",
        "                PYTHON\n",
        "\n",
        "                EASY\n",
        "                MULTIPURPOSE LANGUAGE\n",
        "                COMPUTER INTERACTIVE LANGUAGE\n",
        "                HIGH LEVEL LANGUAGE\n",
        "\n",
        "                USES\n",
        "                WEB DEVELOPMENT\n",
        "                MACHINE LEARNING\n",
        "                DATA SCIENCE\n",
        "                SOFTWARE DEVELOPMENNT\n",
        "                MATHEMATICS\n",
        "                SYSTEM SCRIPTING\n",
        "                AI\n",
        "                ROBOTICS\n",
        "\n",
        "\n",
        "                some imp instructions for visual code \n",
        "                to open prompt windows use cntrl swift `\n",
        "                to debug use F5\n",
        "\n",
        "            \"\"\"\n",
        "print(var1)       \n",
        "\n"
      ]
    },
    {
      "cell_type": "code",
      "source": [
        "print(\"sparsh\")\n",
        "print(\"desai\")\n",
        "\n",
        "print(\"sparsh\",end=\"\")\n",
        "print(\"desai\")\n",
        "\n",
        "print(\"sparsh\",end=\" \")\n",
        "print(\"desai\")\n",
        "\n",
        "x='sparsh'\n",
        "y='desai'\n",
        "\n",
        "print(x,y)\n",
        "       # int \n",
        "       # Float\n",
        "      #string\n",
        "      # Bool\n",
        "print(type(6))\n",
        "print(type(-9))\n",
        "print((type(6.5)))\n",
        "print(type(\"sparash\"))\n",
        "print(type('desai'))\n",
        "print(type(True))\n"
      ],
      "metadata": {
        "colab": {
          "base_uri": "https://localhost:8080/"
        },
        "id": "-ydTdId7VARP",
        "outputId": "17ac0ceb-31fb-4dcd-840e-e3d056a9f0ff"
      },
      "execution_count": null,
      "outputs": [
        {
          "output_type": "stream",
          "name": "stdout",
          "text": [
            "sparsh\n",
            "desai\n",
            "sparshdesai\n",
            "sparsh desai\n",
            "sparsh desai\n",
            "<class 'int'>\n",
            "<class 'int'>\n",
            "<class 'float'>\n",
            "<class 'str'>\n",
            "<class 'str'>\n",
            "<class 'bool'>\n"
          ]
        }
      ]
    },
    {
      "cell_type": "code",
      "source": [
        "print(\"enter no\",end=\"\")\n",
        "num=input()\n",
        "print(num)\n",
        "\n",
        "num=input(\"enter no\")\n",
        "print(num)\n",
        "\n",
        "num=input(\"enter no\")\n",
        "print(num)\n",
        "print(type(num))\n",
        "\n",
        "num=input(\"enter no\")\n",
        "print(num)\n",
        "print(type(num))\n",
        "\n",
        "\n",
        "num=int(input(\"enter no\")) #typecast\n",
        "print(num)\n",
        "print(type(num))\n",
        "\n",
        "num=int(input(\"enter no\")) #error\n",
        "print(num)\n",
        "print(type(num))\n",
        "\n"
      ],
      "metadata": {
        "colab": {
          "base_uri": "https://localhost:8080/",
          "height": 478
        },
        "id": "-ciE31oBdoF7",
        "outputId": "21910377-ba11-47ee-89ec-1c98b1e4bbb8"
      },
      "execution_count": null,
      "outputs": [
        {
          "name": "stdout",
          "output_type": "stream",
          "text": [
            "enter no78\n",
            "78\n",
            "enter no98\n",
            "98\n",
            "enter no89\n",
            "89\n",
            "<class 'str'>\n",
            "enter noyuuuu\n",
            "yuuuu\n",
            "<class 'str'>\n",
            "enter no90\n",
            "90\n",
            "<class 'int'>\n",
            "enter nojhjh\n"
          ]
        },
        {
          "output_type": "error",
          "ename": "ValueError",
          "evalue": "ignored",
          "traceback": [
            "\u001b[0;31m---------------------------------------------------------------------------\u001b[0m",
            "\u001b[0;31mValueError\u001b[0m                                Traceback (most recent call last)",
            "\u001b[0;32m<ipython-input-28-1f94460d6667>\u001b[0m in \u001b[0;36m<module>\u001b[0;34m()\u001b[0m\n\u001b[1;32m     19\u001b[0m \u001b[0mprint\u001b[0m\u001b[0;34m(\u001b[0m\u001b[0mtype\u001b[0m\u001b[0;34m(\u001b[0m\u001b[0mnum\u001b[0m\u001b[0;34m)\u001b[0m\u001b[0;34m)\u001b[0m\u001b[0;34m\u001b[0m\u001b[0;34m\u001b[0m\u001b[0m\n\u001b[1;32m     20\u001b[0m \u001b[0;34m\u001b[0m\u001b[0m\n\u001b[0;32m---> 21\u001b[0;31m \u001b[0mnum\u001b[0m\u001b[0;34m=\u001b[0m\u001b[0mint\u001b[0m\u001b[0;34m(\u001b[0m\u001b[0minput\u001b[0m\u001b[0;34m(\u001b[0m\u001b[0;34m\"enter no\"\u001b[0m\u001b[0;34m)\u001b[0m\u001b[0;34m)\u001b[0m\u001b[0;34m\u001b[0m\u001b[0;34m\u001b[0m\u001b[0m\n\u001b[0m\u001b[1;32m     22\u001b[0m \u001b[0mprint\u001b[0m\u001b[0;34m(\u001b[0m\u001b[0mnum\u001b[0m\u001b[0;34m)\u001b[0m\u001b[0;34m\u001b[0m\u001b[0;34m\u001b[0m\u001b[0m\n\u001b[1;32m     23\u001b[0m \u001b[0mprint\u001b[0m\u001b[0;34m(\u001b[0m\u001b[0mtype\u001b[0m\u001b[0;34m(\u001b[0m\u001b[0mnum\u001b[0m\u001b[0;34m)\u001b[0m\u001b[0;34m)\u001b[0m\u001b[0;34m\u001b[0m\u001b[0;34m\u001b[0m\u001b[0m\n",
            "\u001b[0;31mValueError\u001b[0m: invalid literal for int() with base 10: 'jhjh'"
          ]
        }
      ]
    },
    {
      "cell_type": "code",
      "source": [
        "#in python code executed line by line\n",
        "#in pythom interprter insted of compiler\n",
        "\n",
        "x=\"1234\"\n",
        "y=int(x)\n",
        "\n",
        "print(x,type(x))\n",
        "print(y,type(y))"
      ],
      "metadata": {
        "colab": {
          "base_uri": "https://localhost:8080/"
        },
        "id": "R_dktCepvwX2",
        "outputId": "473ec9ff-e1d2-4231-8447-64d8a559e61c"
      },
      "execution_count": null,
      "outputs": [
        {
          "output_type": "stream",
          "name": "stdout",
          "text": [
            "1234 <class 'str'>\n",
            "1234 <class 'int'>\n"
          ]
        }
      ]
    },
    {
      "cell_type": "code",
      "source": [
        "x=9\n",
        "y=3\n",
        "\n",
        "print(x**y)\n",
        "print(x/y)\n",
        "print(x//y)\n",
        "\n",
        "z=\"7\"\n",
        "\n",
        "print(x>y)\n",
        "print(x==y)\n",
        "print(x==z) #only comparatiuve operaror allows diff datatypes to get compare and result into true or false.\n",
        "print(x>z) \n"
      ],
      "metadata": {
        "colab": {
          "base_uri": "https://localhost:8080/",
          "height": 305
        },
        "id": "ETIGUipyw1Cb",
        "outputId": "370c1d80-1831-4447-ba63-0caced627792"
      },
      "execution_count": null,
      "outputs": [
        {
          "output_type": "stream",
          "name": "stdout",
          "text": [
            "729\n",
            "3.0\n",
            "3\n",
            "True\n",
            "False\n",
            "False\n"
          ]
        },
        {
          "output_type": "error",
          "ename": "TypeError",
          "evalue": "ignored",
          "traceback": [
            "\u001b[0;31m---------------------------------------------------------------------------\u001b[0m",
            "\u001b[0;31mTypeError\u001b[0m                                 Traceback (most recent call last)",
            "\u001b[0;32m<ipython-input-1-781506494675>\u001b[0m in \u001b[0;36m<module>\u001b[0;34m()\u001b[0m\n\u001b[1;32m     11\u001b[0m \u001b[0mprint\u001b[0m\u001b[0;34m(\u001b[0m\u001b[0mx\u001b[0m\u001b[0;34m==\u001b[0m\u001b[0my\u001b[0m\u001b[0;34m)\u001b[0m\u001b[0;34m\u001b[0m\u001b[0;34m\u001b[0m\u001b[0m\n\u001b[1;32m     12\u001b[0m \u001b[0mprint\u001b[0m\u001b[0;34m(\u001b[0m\u001b[0mx\u001b[0m\u001b[0;34m==\u001b[0m\u001b[0mz\u001b[0m\u001b[0;34m)\u001b[0m\u001b[0;34m\u001b[0m\u001b[0;34m\u001b[0m\u001b[0m\n\u001b[0;32m---> 13\u001b[0;31m \u001b[0mprint\u001b[0m\u001b[0;34m(\u001b[0m\u001b[0mx\u001b[0m\u001b[0;34m>\u001b[0m\u001b[0mz\u001b[0m\u001b[0;34m)\u001b[0m \u001b[0;31m#only comparatiuve operaror allows diff\u001b[0m\u001b[0;34m\u001b[0m\u001b[0;34m\u001b[0m\u001b[0m\n\u001b[0m",
            "\u001b[0;31mTypeError\u001b[0m: '>' not supported between instances of 'int' and 'str'"
          ]
        }
      ]
    },
    {
      "cell_type": "code",
      "source": [
        "#python can handle any large no ,dont need long,double\n",
        "# or ||  same\n",
        "# and && same"
      ],
      "metadata": {
        "id": "7NbCGzMFyhz9"
      },
      "execution_count": null,
      "outputs": []
    },
    {
      "cell_type": "code",
      "source": [
        "x =\"hello\"\n",
        "for y in x:\n",
        "  print(y,end=\"\")\n",
        "\n",
        "print(\"\")\n",
        "x =\"hello\"\n",
        "for y in x:\n",
        "  print(y)"
      ],
      "metadata": {
        "id": "01djVp2gTA2h",
        "colab": {
          "base_uri": "https://localhost:8080/"
        },
        "outputId": "efb4c6b4-8bc4-467f-ef44-607bfb09bb31"
      },
      "execution_count": null,
      "outputs": [
        {
          "output_type": "stream",
          "name": "stdout",
          "text": [
            "hello\n",
            "h\n",
            "e\n",
            "l\n",
            "l\n",
            "o\n"
          ]
        }
      ]
    },
    {
      "cell_type": "code",
      "source": [
        "for i in range(5):\n",
        "       print(i)\n",
        "for i in range(1,5):\n",
        "       print(i)\n"
      ],
      "metadata": {
        "id": "pOuyz1CLl8C3",
        "colab": {
          "base_uri": "https://localhost:8080/"
        },
        "outputId": "612517d9-9efc-41cb-e824-24b65198523c"
      },
      "execution_count": null,
      "outputs": [
        {
          "output_type": "stream",
          "name": "stdout",
          "text": [
            "0\n",
            "1\n",
            "2\n",
            "3\n",
            "4\n",
            "1\n",
            "2\n",
            "3\n",
            "4\n"
          ]
        }
      ]
    },
    {
      "cell_type": "code",
      "source": [
        "range(10)\n",
        "range(0,10,2)\n",
        "range(2,10)\n",
        "\n",
        "for i in range(10):\n",
        "       print(i,end=\"\")\n",
        "print(\" \")\n",
        "for i in range(0,10,2):\n",
        "       print(i,end=\"\")\n",
        "print(\" \")       \n",
        "for i in range(2,10):\n",
        "       print(i,end=\"\")       "
      ],
      "metadata": {
        "id": "Z3dIWutKl3sU",
        "colab": {
          "base_uri": "https://localhost:8080/"
        },
        "outputId": "63e3207c-51a9-46f2-a617-90cb8a0fdd52"
      },
      "execution_count": null,
      "outputs": [
        {
          "output_type": "stream",
          "name": "stdout",
          "text": [
            "0123456789 \n",
            "02468 \n",
            "23456789"
          ]
        }
      ]
    },
    {
      "cell_type": "code",
      "source": [
        "i=1\n",
        "while (i<5):\n",
        "    print(i)\n",
        "    i+=1"
      ],
      "metadata": {
        "id": "cOJeOyEdkfMN",
        "colab": {
          "base_uri": "https://localhost:8080/"
        },
        "outputId": "321107e5-5cb6-4581-f269-4f74ff43e17e"
      },
      "execution_count": null,
      "outputs": [
        {
          "output_type": "stream",
          "name": "stdout",
          "text": [
            "1\n",
            "2\n",
            "3\n",
            "4\n"
          ]
        }
      ]
    },
    {
      "cell_type": "code",
      "source": [
        "#break,continue same as c but break  continue \n",
        "#for:\n",
        "#   if:\n",
        "#     break"
      ],
      "metadata": {
        "id": "ewev1T4zkdh-"
      },
      "execution_count": null,
      "outputs": []
    },
    {
      "cell_type": "code",
      "source": [
        "\"\"\"\n",
        "version control system\n",
        "GIT\n",
        "saves code \n",
        "team\n",
        "protect code from misshapenning\n",
        "open\n",
        "free\n",
        "fast\n",
        "most wide use\n",
        "\n",
        "\n",
        " for web connect...\n",
        "git init\n",
        "git remote add https://github.com/sparshdesai14/python_iit.git\n",
        "git remote -v\n",
        "git status    ( to view if our file added or not)\n",
        "git add . (to add all files) if single git add first.py\n",
        "git commit -m \"first commit\"\n",
        "git push\n",
        "\n",
        "\n",
        "process \n",
        "\n",
        "open github on desktop\n",
        "new repositery  public settings acces\n",
        "name\n",
        "vc code\n",
        "remade\n",
        "\n",
        "then open on vc\n",
        "clone github\n",
        "select location \n",
        "guthub in documensts in mine\n",
        "then select folder\n",
        "new file\n",
        "some.py\n",
        "\n",
        "run f5\n",
        "then\n",
        "remote -v\n",
        "git status\n",
        "git add\n",
        "git commit -m \" name \"\n",
        "git push\n",
        "\n",
        "\"\"\""
      ],
      "metadata": {
        "id": "21v2hoNPlC0R",
        "colab": {
          "base_uri": "https://localhost:8080/",
          "height": 70
        },
        "outputId": "86e01c69-0e22-4f2e-89e9-772bd5967445"
      },
      "execution_count": null,
      "outputs": [
        {
          "output_type": "execute_result",
          "data": {
            "application/vnd.google.colaboratory.intrinsic+json": {
              "type": "string"
            },
            "text/plain": [
              "'\\nversion control system\\nGIT\\nsaves code \\nteam\\nprotect code from misshapenning\\nopen\\nfree\\nfast\\nmost wide use\\n\\n\\n for web connect...\\ngit init\\ngit remote add https://github.com/sparshdesai14/python_iit.git\\ngit remote -v\\ngit status    ( to view if our file added or not)\\ngit add . (to add all files) if sinle git add first.py\\n'"
            ]
          },
          "metadata": {},
          "execution_count": 1
        }
      ]
    },
    {
      "cell_type": "code",
      "source": [
        "#colab in github"
      ],
      "metadata": {
        "id": "YQHZQVYmlDKW"
      },
      "execution_count": 2,
      "outputs": []
    },
    {
      "cell_type": "code",
      "source": [
        ""
      ],
      "metadata": {
        "id": "jYjfg9Wxl0OJ"
      },
      "execution_count": null,
      "outputs": []
    }
  ]
}